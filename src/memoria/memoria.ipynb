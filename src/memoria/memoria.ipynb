{
 "cells": [
  {
   "cell_type": "markdown",
   "metadata": {},
   "source": [
    "### **Exploratory Data Analysis** - En busca del éxito profesional"
   ]
  },
  {
   "cell_type": "markdown",
   "metadata": {},
   "source": [
    "#### **Análisis de los factores clave que impulsan la empleabilidad de los estudiantes universitarios**"
   ]
  },
  {
   "cell_type": "markdown",
   "metadata": {},
   "source": [
    "#### DESCRIPCIÓN"
   ]
  },
  {
   "cell_type": "code",
   "execution_count": null,
   "metadata": {},
   "outputs": [],
   "source": [
    "# Describe brevemente el tema del proyecto en Markdown\n",
    "tema = \"\"\n",
    "\n",
    "'''\n",
    "Este proyecto tiene como objetivo realizar un análisis exploratorio de datos para determinar aquellos factores fundamentales \n",
    "que influyen en la empleabilidad de los estudiantes universitarios. \n",
    "A través de la exploración detallada de un conjunto de datos que abarcan información sobre la educación familiar, \n",
    "habilidades lingüísticas, ramas de conocimiento, tipo de educación recibida, y otros aspectos relevantes, \n",
    "buscamos identificar patrones y relaciones que puedan determinar cuáles son las claves para el éxito laboral de los estudiantes. \n",
    "Este estudio proporcionará una comprensión profunda de los elementos que impulsan la empleabilidad, \n",
    "contribuyendo así a orientar estrategias educativas y de carrera para potenciar las oportunidades laborales de los estudiantes universitarios.\n",
    "'''"
   ]
  },
  {
   "cell_type": "markdown",
   "metadata": {},
   "source": [
    "### HIPÓTESIS"
   ]
  },
  {
   "cell_type": "markdown",
   "metadata": {},
   "source": [
    "El objetivo principal es saber si factores como el tipo de universidad, la rama de conocimiento o los idiomas te garantizan más oportunidades laborales al terminar el grado universitario. Es decir, una hipótesis global del estudio sería: Existen factores determinantes que afectan a la empleabildiad de los estudiantes universitarios.\n",
    "\n",
    "Las **hipótesis principales** planteadas son las siguientes:\n",
    "\n",
    "- Estudiar en una universidad privada te garantiza más oportunidades de empleo al terminar el grado universitario\n",
    "\n",
    "- La educación familiar influye en la empleabilidad del estudiante\n",
    "\n",
    "- Los idiomas son importantes a la hora de buscar trabajo\n",
    "\n",
    "- Los estudiantes de ciertas ramas tiene más oportunidades de encontrar trabajo\n",
    "\n",
    "Los **factores clave** a tener en cuenta en este análisis exploratorio para obtener conclusiones en base a las hipótesis realizadas son:\n",
    "\n",
    "- Tipo de universidad\n",
    "\n",
    "- Educación familiar\n",
    "\n",
    "- Idiomas\n",
    "\n",
    "- Rama de conocimiento\n",
    "\n"
   ]
  },
  {
   "cell_type": "markdown",
   "metadata": {},
   "source": [
    "# Escribe tu hipótesis principal en Markdown\n",
    "\n",
    "hipotesis_1 = \"influyen en la entrada al mundo laboral del estudiante universitario.\"\n",
    "\n",
    "hipotesis_2 = \"\"\n",
    "\n",
    "\n",
    "- ¿La educación familiar influye en la empleabilidad del estudiante?\n",
    "- ¿Los idiomas son importantes a la hora de buscar trabjo?\n",
    "\n",
    "\n",
    "- Hablando el Idioma del Éxito: El Impacto de las Competencias Lingüísticas en la Búsqueda de Empleo\n",
    "\n",
    "- Explorando la Relación entre la Rama de Conocimiento y las Oportunidades Laborales\n",
    "\n",
    "- Educación Pública vs. Privada: Un Vistazo a las Trayectorias Laborales de Estudiantes Universitarios\"\n",
    "\n",
    "- Más Allá de los Títulos: La Importancia de la Formación Adicional en la Empleabilidad Estudiantil\n",
    "La titulación y la rama de conocimiento de la titulación influyen en el tipo de ocupación en la que los titulados encuentran empleo."
   ]
  },
  {
   "cell_type": "code",
   "execution_count": null,
   "metadata": {},
   "outputs": [],
   "source": [
    "# Escribe tu hipótesis principal en Markdown\n",
    "hipotesis_1 = \"\"\n",
    "hipotesis_2 = \"\"\n",
    "hipotesis_3 = \"\"\n",
    "hipotesis_4 = \"\"\n",
    "\n",
    "¿La educación familiar influye en la empleabilidad del estudiante?\n",
    "\n",
    "- Influencia de la Educación Familiar en la Empleabilidad Estudiantil\n",
    "\n",
    "- Hablando el Idioma del Éxito: El Impacto de las Competencias Lingüísticas en la Búsqueda de Empleo\n",
    "\n",
    "- Explorando la Relación entre la Rama de Conocimiento y las Oportunidades Laborales\n",
    "\n",
    "- Educación Pública vs. Privada: Un Vistazo a las Trayectorias Laborales de Estudiantes Universitarios\"\n",
    "\n",
    "- Más Allá de los Títulos: La Importancia de la Formación Adicional en la Empleabilidad Estudiantil\n",
    "La titulación y la rama de conocimiento de la titulación influyen en el tipo de ocupación en la que los titulados encuentran empleo."
   ]
  },
  {
   "cell_type": "markdown",
   "metadata": {},
   "source": [
    "### DATOS (OBTENCIÓN Y DESCRIPCIÓN)"
   ]
  },
  {
   "cell_type": "markdown",
   "metadata": {},
   "source": [
    "Añadir vista (head), origen y fuente"
   ]
  },
  {
   "cell_type": "code",
   "execution_count": null,
   "metadata": {},
   "outputs": [],
   "source": [
    "# guarda en variables los datasets y su fuente\n",
    "df_1 = pd.DataFrame()\n",
    "fuente_1 = \"\"\n",
    "\n",
    "\n",
    "\n",
    "# df_2 = pd.DataFrame()\n",
    "# fuente_2 = \"\"\n"
   ]
  },
  {
   "cell_type": "markdown",
   "metadata": {},
   "source": [
    "### **BIBLIOGRAFÍA**"
   ]
  },
  {
   "cell_type": "markdown",
   "metadata": {},
   "source": []
  }
 ],
 "metadata": {
  "language_info": {
   "name": "python"
  }
 },
 "nbformat": 4,
 "nbformat_minor": 2
}
