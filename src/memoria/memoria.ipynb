{
 "cells": [
  {
   "cell_type": "markdown",
   "metadata": {},
   "source": [
    "## **TÍTULO**"
   ]
  },
  {
   "cell_type": "code",
   "execution_count": null,
   "metadata": {},
   "outputs": [],
   "source": [
    "#Escribe el título del proyecto en Markdown\n",
    "titulo = \"\"\n",
    "\n",
    "'''\n",
    "Más allá de las aulas :\n",
    "Rumbo al mundo laboral:\n",
    "En busca del éxito profesional:\n",
    "\n",
    "Análisis de \n",
    "factores clave / principales facotres / elementos esenciales / elementos determinantes\n",
    "para \n",
    "estudiantes / impulsar la empleabilidad en los estudiantes\n",
    "\n",
    "\"Navegando hacia el Éxito Laboral: Un Análisis de Factores Clave para Estudiantes Universitarios\"\n",
    "\n",
    "\"Tras las Huellas del Empleo: Descifrando los Elementos Esenciales para la Empleabilidad Estudiantil\"\n",
    "\n",
    "\"Construyendo Puentes hacia el Futuro Laboral: Un Examen de los Principales Factores que Impulsan la Empleabilidad\"\n",
    "\n",
    "\"Rumbo al Empleo: Un Análisis Exhaustivo de los Elementos Determinantes en la Trayectoria Estudiantil\"\n",
    "\n",
    "\"Desentrañando el Laberinto Laboral: Factores Principales para Impulsar la Empleabilidad en Estudiantes Universitarios\"\n",
    "\n",
    "\"En Busca del Éxito Profesional: Un Estudio de los Pilares que Potencian la Empleabilidad Estudiantil\"\n",
    "\n",
    "\"Más Allá de las Aulas: Factores Clave que Modelan el Éxito Laboral de los Estudiantes Universitarios\"\n",
    "\n",
    "\"Empoderando Carreras: Un Análisis Profundo de los Elementos Determinantes para la Empleabilidad\"\n",
    "\n",
    "\"Conectando el Aprendizaje con el Trabajo: Explorando Factores Esenciales para el Éxito Profesional\"\n",
    "\n",
    "\"Persiguiendo Oportunidades: Factores Principales que Guiarán la Empleabilidad de los Estudiantes\"\n",
    "\n",
    "\"Explorando los Caminos hacia el Empleo: Un Análisis de Factores Clave para Estudiantes Universitarios\"\n",
    "\n",
    "\"Tejiendo el Éxito Laboral: Un Estudio Exploratorio de los Factores que Influyen en la Empleabilidad de Estudiantes\"\n",
    "\n",
    "\"Más Allá de las Aulas: Un Análisis de la Influencia de la Educación Familiar en la Empleabilidad Estudiantil\"\n",
    "\n",
    "\"Hablando el Idioma del Éxito: El Impacto de las Competencias Lingüísticas en la Búsqueda de Empleo\"\n",
    "\n",
    "\"Ramas que Florecen: Explorando la Relación entre la Rama de Conocimiento y las Oportunidades Laborales\"\n",
    "\n",
    "\"Educación Pública vs. Privada: Un Vistazo a las Trayectorias Laborales de Estudiantes Universitarios\"\n",
    "\n",
    "\"Más Allá de los Títulos: La Importancia de la Formación Adicional en la Empleabilidad Estudiantil\"\n",
    "\n",
    "'''"
   ]
  },
  {
   "cell_type": "markdown",
   "metadata": {},
   "source": [
    "### DESCRIPCIÓN"
   ]
  },
  {
   "cell_type": "code",
   "execution_count": null,
   "metadata": {},
   "outputs": [],
   "source": [
    "# Describe brevemente el tema del proyecto en Markdown\n",
    "tema = \"\"\n",
    "\n",
    "'''\n",
    "Este proyecto tiene como objetivo realizar un análisis exploratorio de datos para desentrañar los factores fundamentales \n",
    "que influyen en la empleabilidad de los estudiantes universitarios. \n",
    "A través de la exploración detallada de conjuntos de datos que abarcan información sobre la educación familiar, \n",
    "habilidades lingüísticas, ramas de conocimiento, tipo de educación recibida, y otros aspectos relevantes, \n",
    "buscamos identificar patrones y relaciones que puedan arrojar luz sobre las claves para el éxito laboral de los estudiantes. \n",
    "Este estudio proporcionará una comprensión profunda de los elementos que impulsan la empleabilidad, \n",
    "contribuyendo así a orientar estrategias educativas y de carrera para optimizar las oportunidades profesionales de los estudiantes universitarios.\n",
    "'''"
   ]
  },
  {
   "cell_type": "markdown",
   "metadata": {},
   "source": [
    "### HIPÓTESIS"
   ]
  },
  {
   "cell_type": "code",
   "execution_count": null,
   "metadata": {},
   "outputs": [],
   "source": [
    "# Escribe tu hipótesis principal en Markdown\n",
    "hipotesis_1 = \"\""
   ]
  },
  {
   "cell_type": "markdown",
   "metadata": {},
   "source": [
    "### DATOS (OBTENCIÓN Y DESCRIPCIÓN)"
   ]
  },
  {
   "cell_type": "markdown",
   "metadata": {},
   "source": [
    "Añadir vista (head), origen y fuente"
   ]
  },
  {
   "cell_type": "code",
   "execution_count": null,
   "metadata": {},
   "outputs": [],
   "source": [
    "# guarda en variables los datasets y su fuente\n",
    "df_1 = pd.DataFrame()\n",
    "fuente_1 = \"\"\n",
    "# df_2 = pd.DataFrame()\n",
    "# fuente_2 = \"\"\n",
    "# df_3 = pd.DataFrame()\n",
    "# fuente_3 = \"\"\n",
    "# df_4 = pd.DataFrame()\n",
    "# fuente_4 = \"\"\n",
    "# df_5 = pd.DataFrame()\n",
    "# fuente_5 = \"\"\n",
    "# ..."
   ]
  }
 ],
 "metadata": {
  "language_info": {
   "name": "python"
  }
 },
 "nbformat": 4,
 "nbformat_minor": 2
}
