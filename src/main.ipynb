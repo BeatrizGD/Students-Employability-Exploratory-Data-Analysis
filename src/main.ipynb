{
 "cells": [
  {
   "cell_type": "markdown",
   "metadata": {},
   "source": [
    "## **EXPLORATORY DATA ANALYSIS**\n",
    "### Título"
   ]
  },
  {
   "cell_type": "markdown",
   "metadata": {},
   "source": [
    "### ***ÍNDICE***\n",
    "1. Importación de librerías\n",
    "2. Carga de datos\n",
    "3. Reducción de datos\n",
    "4. Tipos de datos y valores nulos\n",
    "5. Decodificación de variables\n",
    "6. Renombrar columnas\n"
   ]
  },
  {
   "cell_type": "markdown",
   "metadata": {},
   "source": [
    ">  **1.** **IMPORTACIÓN DE LIBRERÍAS**"
   ]
  },
  {
   "cell_type": "code",
   "execution_count": 711,
   "metadata": {},
   "outputs": [],
   "source": [
    "# Importar librerías\n",
    "\n",
    "import numpy as np\n",
    "import pandas as pd\n",
    "import matplotlib.pyplot as plt\n",
    "import seaborn as sns"
   ]
  },
  {
   "cell_type": "markdown",
   "metadata": {},
   "source": [
    ">  **2.** **CARGA DE DATOS**"
   ]
  },
  {
   "cell_type": "code",
   "execution_count": 712,
   "metadata": {},
   "outputs": [
    {
     "name": "stderr",
     "output_type": "stream",
     "text": [
      "C:\\Users\\beatr\\AppData\\Local\\Temp\\ipykernel_25576\\4148141566.py:3: DtypeWarning: Columns (119) have mixed types. Specify dtype option on import or set low_memory=False.\n",
      "  df = pd.read_csv(\"data/EILU_2019.csv\",sep=\"\\t\")\n"
     ]
    }
   ],
   "source": [
    "# Carga de datos DataFrame principal\n",
    "\n",
    "df = pd.read_csv(\"data/EILU_2019.csv\",sep=\"\\t\")"
   ]
  },
  {
   "cell_type": "code",
   "execution_count": 713,
   "metadata": {},
   "outputs": [
    {
     "data": {
      "text/html": [
       "<div>\n",
       "<style scoped>\n",
       "    .dataframe tbody tr th:only-of-type {\n",
       "        vertical-align: middle;\n",
       "    }\n",
       "\n",
       "    .dataframe tbody tr th {\n",
       "        vertical-align: top;\n",
       "    }\n",
       "\n",
       "    .dataframe thead th {\n",
       "        text-align: right;\n",
       "    }\n",
       "</style>\n",
       "<table border=\"1\" class=\"dataframe\">\n",
       "  <thead>\n",
       "    <tr style=\"text-align: right;\">\n",
       "      <th></th>\n",
       "      <th>IDENT</th>\n",
       "      <th>SEXO</th>\n",
       "      <th>EDAD</th>\n",
       "      <th>NACIO</th>\n",
       "      <th>NACIO1</th>\n",
       "      <th>NACIO2</th>\n",
       "      <th>PAIS_NACI</th>\n",
       "      <th>TITU</th>\n",
       "      <th>RAMA</th>\n",
       "      <th>AMBITO</th>\n",
       "      <th>...</th>\n",
       "      <th>ANHCUR4</th>\n",
       "      <th>DENCUR5</th>\n",
       "      <th>DURCUR5</th>\n",
       "      <th>RESCUR5</th>\n",
       "      <th>ANHCUR5</th>\n",
       "      <th>DENCUR6</th>\n",
       "      <th>DURCUR6</th>\n",
       "      <th>RESCUR6</th>\n",
       "      <th>ANHCUR6</th>\n",
       "      <th>FACTOR</th>\n",
       "    </tr>\n",
       "  </thead>\n",
       "  <tbody>\n",
       "    <tr>\n",
       "      <th>0</th>\n",
       "      <td>1</td>\n",
       "      <td>1</td>\n",
       "      <td>1</td>\n",
       "      <td>1</td>\n",
       "      <td></td>\n",
       "      <td></td>\n",
       "      <td>1</td>\n",
       "      <td>11101</td>\n",
       "      <td>3</td>\n",
       "      <td>11</td>\n",
       "      <td>...</td>\n",
       "      <td></td>\n",
       "      <td></td>\n",
       "      <td></td>\n",
       "      <td></td>\n",
       "      <td></td>\n",
       "      <td></td>\n",
       "      <td></td>\n",
       "      <td></td>\n",
       "      <td></td>\n",
       "      <td>9.894742</td>\n",
       "    </tr>\n",
       "    <tr>\n",
       "      <th>1</th>\n",
       "      <td>2</td>\n",
       "      <td>1</td>\n",
       "      <td>1</td>\n",
       "      <td>1</td>\n",
       "      <td></td>\n",
       "      <td></td>\n",
       "      <td>1</td>\n",
       "      <td>11101</td>\n",
       "      <td>3</td>\n",
       "      <td>11</td>\n",
       "      <td>...</td>\n",
       "      <td></td>\n",
       "      <td></td>\n",
       "      <td></td>\n",
       "      <td></td>\n",
       "      <td></td>\n",
       "      <td></td>\n",
       "      <td></td>\n",
       "      <td></td>\n",
       "      <td></td>\n",
       "      <td>9.894742</td>\n",
       "    </tr>\n",
       "    <tr>\n",
       "      <th>2</th>\n",
       "      <td>3</td>\n",
       "      <td>1</td>\n",
       "      <td>1</td>\n",
       "      <td>1</td>\n",
       "      <td></td>\n",
       "      <td></td>\n",
       "      <td>1</td>\n",
       "      <td>11101</td>\n",
       "      <td>3</td>\n",
       "      <td>11</td>\n",
       "      <td>...</td>\n",
       "      <td></td>\n",
       "      <td></td>\n",
       "      <td></td>\n",
       "      <td></td>\n",
       "      <td></td>\n",
       "      <td></td>\n",
       "      <td></td>\n",
       "      <td></td>\n",
       "      <td></td>\n",
       "      <td>10.965467</td>\n",
       "    </tr>\n",
       "    <tr>\n",
       "      <th>3</th>\n",
       "      <td>4</td>\n",
       "      <td>1</td>\n",
       "      <td>1</td>\n",
       "      <td>1</td>\n",
       "      <td></td>\n",
       "      <td></td>\n",
       "      <td>1</td>\n",
       "      <td>11101</td>\n",
       "      <td>3</td>\n",
       "      <td>11</td>\n",
       "      <td>...</td>\n",
       "      <td></td>\n",
       "      <td></td>\n",
       "      <td></td>\n",
       "      <td></td>\n",
       "      <td></td>\n",
       "      <td></td>\n",
       "      <td></td>\n",
       "      <td></td>\n",
       "      <td></td>\n",
       "      <td>10.859689</td>\n",
       "    </tr>\n",
       "    <tr>\n",
       "      <th>4</th>\n",
       "      <td>5</td>\n",
       "      <td>1</td>\n",
       "      <td>1</td>\n",
       "      <td>1</td>\n",
       "      <td></td>\n",
       "      <td></td>\n",
       "      <td>1</td>\n",
       "      <td>11101</td>\n",
       "      <td>3</td>\n",
       "      <td>11</td>\n",
       "      <td>...</td>\n",
       "      <td></td>\n",
       "      <td></td>\n",
       "      <td></td>\n",
       "      <td></td>\n",
       "      <td></td>\n",
       "      <td></td>\n",
       "      <td></td>\n",
       "      <td></td>\n",
       "      <td></td>\n",
       "      <td>10.859689</td>\n",
       "    </tr>\n",
       "    <tr>\n",
       "      <th>...</th>\n",
       "      <td>...</td>\n",
       "      <td>...</td>\n",
       "      <td>...</td>\n",
       "      <td>...</td>\n",
       "      <td>...</td>\n",
       "      <td>...</td>\n",
       "      <td>...</td>\n",
       "      <td>...</td>\n",
       "      <td>...</td>\n",
       "      <td>...</td>\n",
       "      <td>...</td>\n",
       "      <td>...</td>\n",
       "      <td>...</td>\n",
       "      <td>...</td>\n",
       "      <td>...</td>\n",
       "      <td>...</td>\n",
       "      <td>...</td>\n",
       "      <td>...</td>\n",
       "      <td>...</td>\n",
       "      <td>...</td>\n",
       "      <td>...</td>\n",
       "    </tr>\n",
       "    <tr>\n",
       "      <th>31646</th>\n",
       "      <td>31647</td>\n",
       "      <td>2</td>\n",
       "      <td>2</td>\n",
       "      <td>1</td>\n",
       "      <td></td>\n",
       "      <td></td>\n",
       "      <td>1</td>\n",
       "      <td>109999</td>\n",
       "      <td>3</td>\n",
       "      <td>109</td>\n",
       "      <td>...</td>\n",
       "      <td></td>\n",
       "      <td></td>\n",
       "      <td></td>\n",
       "      <td></td>\n",
       "      <td></td>\n",
       "      <td></td>\n",
       "      <td></td>\n",
       "      <td></td>\n",
       "      <td></td>\n",
       "      <td>1.780764</td>\n",
       "    </tr>\n",
       "    <tr>\n",
       "      <th>31647</th>\n",
       "      <td>31648</td>\n",
       "      <td>2</td>\n",
       "      <td>2</td>\n",
       "      <td>1</td>\n",
       "      <td></td>\n",
       "      <td></td>\n",
       "      <td>1</td>\n",
       "      <td>109999</td>\n",
       "      <td>3</td>\n",
       "      <td>109</td>\n",
       "      <td>...</td>\n",
       "      <td></td>\n",
       "      <td></td>\n",
       "      <td></td>\n",
       "      <td></td>\n",
       "      <td></td>\n",
       "      <td></td>\n",
       "      <td></td>\n",
       "      <td></td>\n",
       "      <td></td>\n",
       "      <td>1.780764</td>\n",
       "    </tr>\n",
       "    <tr>\n",
       "      <th>31648</th>\n",
       "      <td>31649</td>\n",
       "      <td>1</td>\n",
       "      <td>3</td>\n",
       "      <td>1</td>\n",
       "      <td></td>\n",
       "      <td></td>\n",
       "      <td>1</td>\n",
       "      <td>109999</td>\n",
       "      <td>3</td>\n",
       "      <td>109</td>\n",
       "      <td>...</td>\n",
       "      <td></td>\n",
       "      <td></td>\n",
       "      <td></td>\n",
       "      <td></td>\n",
       "      <td></td>\n",
       "      <td></td>\n",
       "      <td></td>\n",
       "      <td></td>\n",
       "      <td></td>\n",
       "      <td>3.038041</td>\n",
       "    </tr>\n",
       "    <tr>\n",
       "      <th>31649</th>\n",
       "      <td>31650</td>\n",
       "      <td>1</td>\n",
       "      <td>1</td>\n",
       "      <td>1</td>\n",
       "      <td></td>\n",
       "      <td></td>\n",
       "      <td>1</td>\n",
       "      <td>109999</td>\n",
       "      <td>3</td>\n",
       "      <td>109</td>\n",
       "      <td>...</td>\n",
       "      <td></td>\n",
       "      <td></td>\n",
       "      <td></td>\n",
       "      <td></td>\n",
       "      <td></td>\n",
       "      <td></td>\n",
       "      <td></td>\n",
       "      <td></td>\n",
       "      <td></td>\n",
       "      <td>3.038041</td>\n",
       "    </tr>\n",
       "    <tr>\n",
       "      <th>31650</th>\n",
       "      <td>31651</td>\n",
       "      <td>1</td>\n",
       "      <td>3</td>\n",
       "      <td>1</td>\n",
       "      <td></td>\n",
       "      <td></td>\n",
       "      <td>1</td>\n",
       "      <td>109999</td>\n",
       "      <td>3</td>\n",
       "      <td>109</td>\n",
       "      <td>...</td>\n",
       "      <td></td>\n",
       "      <td></td>\n",
       "      <td></td>\n",
       "      <td></td>\n",
       "      <td></td>\n",
       "      <td></td>\n",
       "      <td></td>\n",
       "      <td></td>\n",
       "      <td></td>\n",
       "      <td>2.311008</td>\n",
       "    </tr>\n",
       "  </tbody>\n",
       "</table>\n",
       "<p>31651 rows × 299 columns</p>\n",
       "</div>"
      ],
      "text/plain": [
       "       IDENT  SEXO  EDAD  NACIO NACIO1 NACIO2  PAIS_NACI    TITU  RAMA  \\\n",
       "0          1     1     1      1                        1   11101     3   \n",
       "1          2     1     1      1                        1   11101     3   \n",
       "2          3     1     1      1                        1   11101     3   \n",
       "3          4     1     1      1                        1   11101     3   \n",
       "4          5     1     1      1                        1   11101     3   \n",
       "...      ...   ...   ...    ...    ...    ...        ...     ...   ...   \n",
       "31646  31647     2     2      1                        1  109999     3   \n",
       "31647  31648     2     2      1                        1  109999     3   \n",
       "31648  31649     1     3      1                        1  109999     3   \n",
       "31649  31650     1     1      1                        1  109999     3   \n",
       "31650  31651     1     3      1                        1  109999     3   \n",
       "\n",
       "       AMBITO  ...  ANHCUR4  DENCUR5  DURCUR5  RESCUR5  ANHCUR5  DENCUR6  \\\n",
       "0          11  ...                                                         \n",
       "1          11  ...                                                         \n",
       "2          11  ...                                                         \n",
       "3          11  ...                                                         \n",
       "4          11  ...                                                         \n",
       "...       ...  ...      ...      ...      ...      ...      ...      ...   \n",
       "31646     109  ...                                                         \n",
       "31647     109  ...                                                         \n",
       "31648     109  ...                                                         \n",
       "31649     109  ...                                                         \n",
       "31650     109  ...                                                         \n",
       "\n",
       "       DURCUR6  RESCUR6  ANHCUR6     FACTOR  \n",
       "0                                  9.894742  \n",
       "1                                  9.894742  \n",
       "2                                 10.965467  \n",
       "3                                 10.859689  \n",
       "4                                 10.859689  \n",
       "...        ...      ...      ...        ...  \n",
       "31646                              1.780764  \n",
       "31647                              1.780764  \n",
       "31648                              3.038041  \n",
       "31649                              3.038041  \n",
       "31650                              2.311008  \n",
       "\n",
       "[31651 rows x 299 columns]"
      ]
     },
     "execution_count": 713,
     "metadata": {},
     "output_type": "execute_result"
    }
   ],
   "source": [
    "# Obtenemos un vistazo del df, sus columnas y el formato de sus filas\n",
    "df"
   ]
  },
  {
   "cell_type": "code",
   "execution_count": 714,
   "metadata": {},
   "outputs": [
    {
     "data": {
      "text/plain": [
       "(31651, 299)"
      ]
     },
     "execution_count": 714,
     "metadata": {},
     "output_type": "execute_result"
    }
   ],
   "source": [
    "df.shape"
   ]
  },
  {
   "cell_type": "markdown",
   "metadata": {},
   "source": [
    "Observamos que tiene **31651 filas**. Es un nivel alto de datos y no todos los registros nos interesarán para el estudio. Más adelante filtraremos aquellas filas que no nos interesan. En cuanto a las columnas, un valor de **299 columnas** es grande y tenemos que tener en cuenta aquellas que sí nos serán de utilidad para comprobar nuestra hipótesis y formular las conclusiones, es decir, aquellas que realmente tienen valor para nuestro análisis exploratorio"
   ]
  },
  {
   "cell_type": "markdown",
   "metadata": {},
   "source": [
    ">  **3.** **REDUCCIÓN DE DATOS**"
   ]
  },
  {
   "cell_type": "markdown",
   "metadata": {},
   "source": [
    "Para saber qué columnas aportan valor a nuestro estudio recurrimos a un segundo archivo: \"data/dr_EILU_2019.xlsx\" Nuestro conjunto de datos completo se compone de dos archivos: un csv con los registros codificados de 31561 individuos y el archivo excel (del que más adelante hablaremos) con la codificación y diseño de los datos. Este archivo nos puede servir de guía para comprender los campos y valores del DataFrame principal."
   ]
  },
  {
   "cell_type": "code",
   "execution_count": 715,
   "metadata": {},
   "outputs": [
    {
     "data": {
      "text/html": [
       "<div>\n",
       "<style scoped>\n",
       "    .dataframe tbody tr th:only-of-type {\n",
       "        vertical-align: middle;\n",
       "    }\n",
       "\n",
       "    .dataframe tbody tr th {\n",
       "        vertical-align: top;\n",
       "    }\n",
       "\n",
       "    .dataframe thead th {\n",
       "        text-align: right;\n",
       "    }\n",
       "</style>\n",
       "<table border=\"1\" class=\"dataframe\">\n",
       "  <thead>\n",
       "    <tr style=\"text-align: right;\">\n",
       "      <th></th>\n",
       "      <th>Variable</th>\n",
       "      <th>Diccionario de la variable</th>\n",
       "      <th>Longitud</th>\n",
       "      <th>Tipo</th>\n",
       "      <th>Decimales</th>\n",
       "      <th>Posición</th>\n",
       "      <th>Orden</th>\n",
       "      <th>Diccionario ubicado en la hoja…</th>\n",
       "      <th>Descripción</th>\n",
       "    </tr>\n",
       "  </thead>\n",
       "  <tbody>\n",
       "    <tr>\n",
       "      <th>0</th>\n",
       "      <td>IDENT</td>\n",
       "      <td>NaN</td>\n",
       "      <td>5</td>\n",
       "      <td>N</td>\n",
       "      <td>NaN</td>\n",
       "      <td>1.0</td>\n",
       "      <td>1.0</td>\n",
       "      <td>NaN</td>\n",
       "      <td>Nº de identificación de la persona</td>\n",
       "    </tr>\n",
       "    <tr>\n",
       "      <th>1</th>\n",
       "      <td>SEXO</td>\n",
       "      <td>TSEXO</td>\n",
       "      <td>1</td>\n",
       "      <td>A</td>\n",
       "      <td>NaN</td>\n",
       "      <td>6.0</td>\n",
       "      <td>2.0</td>\n",
       "      <td>Tablas1</td>\n",
       "      <td>Sexo</td>\n",
       "    </tr>\n",
       "    <tr>\n",
       "      <th>2</th>\n",
       "      <td>EDAD</td>\n",
       "      <td>TEDAD</td>\n",
       "      <td>1</td>\n",
       "      <td>A</td>\n",
       "      <td>NaN</td>\n",
       "      <td>7.0</td>\n",
       "      <td>3.0</td>\n",
       "      <td>Tablas1</td>\n",
       "      <td>Grupo de edad (a 31-dic-2019)</td>\n",
       "    </tr>\n",
       "    <tr>\n",
       "      <th>3</th>\n",
       "      <td>NACIO</td>\n",
       "      <td>TNACIO</td>\n",
       "      <td>1</td>\n",
       "      <td>A</td>\n",
       "      <td>NaN</td>\n",
       "      <td>8.0</td>\n",
       "      <td>4.0</td>\n",
       "      <td>Tablas1</td>\n",
       "      <td>Nacionalidad</td>\n",
       "    </tr>\n",
       "    <tr>\n",
       "      <th>4</th>\n",
       "      <td>NACIO1</td>\n",
       "      <td>TNACIOP</td>\n",
       "      <td>1</td>\n",
       "      <td>A</td>\n",
       "      <td>NaN</td>\n",
       "      <td>9.0</td>\n",
       "      <td>5.0</td>\n",
       "      <td>Tablas1</td>\n",
       "      <td>País de nacionalidad 1</td>\n",
       "    </tr>\n",
       "    <tr>\n",
       "      <th>...</th>\n",
       "      <td>...</td>\n",
       "      <td>...</td>\n",
       "      <td>...</td>\n",
       "      <td>...</td>\n",
       "      <td>...</td>\n",
       "      <td>...</td>\n",
       "      <td>...</td>\n",
       "      <td>...</td>\n",
       "      <td>...</td>\n",
       "    </tr>\n",
       "    <tr>\n",
       "      <th>295</th>\n",
       "      <td>DURCUR6</td>\n",
       "      <td>TDrCurs</td>\n",
       "      <td>1</td>\n",
       "      <td>A</td>\n",
       "      <td>NaN</td>\n",
       "      <td>371.0</td>\n",
       "      <td>296.0</td>\n",
       "      <td>Tablas2</td>\n",
       "      <td>Duración del sexto curso de formación del SEPE...</td>\n",
       "    </tr>\n",
       "    <tr>\n",
       "      <th>296</th>\n",
       "      <td>RESCUR6</td>\n",
       "      <td>TReCurs</td>\n",
       "      <td>1</td>\n",
       "      <td>A</td>\n",
       "      <td>NaN</td>\n",
       "      <td>372.0</td>\n",
       "      <td>297.0</td>\n",
       "      <td>Tablas2</td>\n",
       "      <td>Resultado del sexto curso de formación del SEP...</td>\n",
       "    </tr>\n",
       "    <tr>\n",
       "      <th>297</th>\n",
       "      <td>ANHCUR6</td>\n",
       "      <td>TAnCurs</td>\n",
       "      <td>4</td>\n",
       "      <td>A</td>\n",
       "      <td>NaN</td>\n",
       "      <td>373.0</td>\n",
       "      <td>298.0</td>\n",
       "      <td>Tablas2</td>\n",
       "      <td>Año de finalización del sexto curso de formaci...</td>\n",
       "    </tr>\n",
       "    <tr>\n",
       "      <th>298</th>\n",
       "      <td>FACTOR</td>\n",
       "      <td>NaN</td>\n",
       "      <td>11</td>\n",
       "      <td>N</td>\n",
       "      <td>6.0</td>\n",
       "      <td>377.0</td>\n",
       "      <td>299.0</td>\n",
       "      <td>NaN</td>\n",
       "      <td>Factor de elevación (seis decimales )</td>\n",
       "    </tr>\n",
       "    <tr>\n",
       "      <th>299</th>\n",
       "      <td>TOTAL</td>\n",
       "      <td>NaN</td>\n",
       "      <td>387</td>\n",
       "      <td>NaN</td>\n",
       "      <td>NaN</td>\n",
       "      <td>NaN</td>\n",
       "      <td>NaN</td>\n",
       "      <td>NaN</td>\n",
       "      <td>NaN</td>\n",
       "    </tr>\n",
       "  </tbody>\n",
       "</table>\n",
       "<p>300 rows × 9 columns</p>\n",
       "</div>"
      ],
      "text/plain": [
       "    Variable Diccionario de la variable  Longitud Tipo  Decimales  Posición  \\\n",
       "0      IDENT                        NaN         5    N        NaN       1.0   \n",
       "1       SEXO                      TSEXO         1    A        NaN       6.0   \n",
       "2       EDAD                      TEDAD         1    A        NaN       7.0   \n",
       "3      NACIO                     TNACIO         1    A        NaN       8.0   \n",
       "4     NACIO1                    TNACIOP         1    A        NaN       9.0   \n",
       "..       ...                        ...       ...  ...        ...       ...   \n",
       "295  DURCUR6                    TDrCurs         1    A        NaN     371.0   \n",
       "296  RESCUR6                    TReCurs         1    A        NaN     372.0   \n",
       "297  ANHCUR6                    TAnCurs         4    A        NaN     373.0   \n",
       "298   FACTOR                        NaN        11    N        6.0     377.0   \n",
       "299    TOTAL                        NaN       387  NaN        NaN       NaN   \n",
       "\n",
       "     Orden Diccionario ubicado en la hoja…  \\\n",
       "0      1.0                             NaN   \n",
       "1      2.0                         Tablas1   \n",
       "2      3.0                         Tablas1   \n",
       "3      4.0                         Tablas1   \n",
       "4      5.0                         Tablas1   \n",
       "..     ...                             ...   \n",
       "295  296.0                         Tablas2   \n",
       "296  297.0                         Tablas2   \n",
       "297  298.0                         Tablas2   \n",
       "298  299.0                             NaN   \n",
       "299    NaN                             NaN   \n",
       "\n",
       "                                           Descripción  \n",
       "0                   Nº de identificación de la persona  \n",
       "1                                                 Sexo  \n",
       "2                        Grupo de edad (a 31-dic-2019)  \n",
       "3                                         Nacionalidad  \n",
       "4                              País de nacionalidad 1   \n",
       "..                                                 ...  \n",
       "295  Duración del sexto curso de formación del SEPE...  \n",
       "296  Resultado del sexto curso de formación del SEP...  \n",
       "297  Año de finalización del sexto curso de formaci...  \n",
       "298              Factor de elevación (seis decimales )  \n",
       "299                                                NaN  \n",
       "\n",
       "[300 rows x 9 columns]"
      ]
     },
     "execution_count": 715,
     "metadata": {},
     "output_type": "execute_result"
    }
   ],
   "source": [
    "# Cargamos el diseño del conjunto de datos que contiene la información de las columnas codificadas\n",
    "\n",
    "cod = pd.read_excel(\"data/dr_EILU_2019.xlsx\",header=1,usecols = 'A:I') # O eliminar las col unnamed\n",
    "cod"
   ]
  },
  {
   "cell_type": "markdown",
   "metadata": {},
   "source": [
    "Este archivo, se trata de un formato excel con varías páginas. En la primera hoja, contiene un listado con toda las variables y su descripción. Además, contiene una variable que te indica en qué página del excel se encuentra la codificación de cada variable."
   ]
  },
  {
   "cell_type": "markdown",
   "metadata": {},
   "source": [
    "Tras estudiar los diferentes campos, nos quedamos con las siguientes columnas:"
   ]
  },
  {
   "cell_type": "code",
   "execution_count": 716,
   "metadata": {},
   "outputs": [],
   "source": [
    "# Limpieza de datos: mediante selección de coolumnas (podría haberse hecho a la inversa con un drop)\n",
    "students = df.copy()\n",
    "\n",
    "students= students[['IDENT','SEXO','EDAD','NACIO','TITU','RAMA','AMBITO','T_UNIV','DISCA','ESTUDIOS_PADRE','ESTUDIOS_MADRE',\n",
    "                  'SAT1','SAT2','EST_B11_1','EST_B11_2','EST_B11_3','EST_B11_4','EST_B11_5','EST_B11_6','EST_B12',\n",
    "                  'EST_B16','EST_B24','EST_B28','IDIOMAS', 'IDI_MT1', 'IDI_MT2','TIC','IDIOMA1','NIV_ID1','TIPOACREIDI1',\n",
    "                  'IDIOMA2','NIV_ID2','TIPOACREIDI2','TRBPRN1','TRBPRN2','TRINAC_D4',\n",
    "                  'TRINAC_D5','TRINAC_D6','TRPARA_D5','TRPARA_D6','TRAC_D9','LUG_TRAB_PAIS','SIT_PRO','JORNADA','TR_TAM',\n",
    "                  'TR_SUELDO','TR_D19','TR_D21', 'HL_E1','HL_E2','HL_E3','HL_E5','HATR_E11','HATR_E12','P_CONTI','PR_SIT_PR',\n",
    "                  'PR_JOR','PR_NIVEL','PR_AREA','PR_CONOC','PR_SUELDO','HATR_E27','NOTRAB_BUS','NOTRAB_BUSM','NOTRAB_BUST']]"
   ]
  },
  {
   "cell_type": "code",
   "execution_count": 717,
   "metadata": {},
   "outputs": [
    {
     "data": {
      "text/html": [
       "<div>\n",
       "<style scoped>\n",
       "    .dataframe tbody tr th:only-of-type {\n",
       "        vertical-align: middle;\n",
       "    }\n",
       "\n",
       "    .dataframe tbody tr th {\n",
       "        vertical-align: top;\n",
       "    }\n",
       "\n",
       "    .dataframe thead th {\n",
       "        text-align: right;\n",
       "    }\n",
       "</style>\n",
       "<table border=\"1\" class=\"dataframe\">\n",
       "  <thead>\n",
       "    <tr style=\"text-align: right;\">\n",
       "      <th></th>\n",
       "      <th>IDENT</th>\n",
       "      <th>SEXO</th>\n",
       "      <th>EDAD</th>\n",
       "      <th>NACIO</th>\n",
       "      <th>TITU</th>\n",
       "      <th>RAMA</th>\n",
       "      <th>AMBITO</th>\n",
       "      <th>T_UNIV</th>\n",
       "      <th>DISCA</th>\n",
       "      <th>ESTUDIOS_PADRE</th>\n",
       "      <th>...</th>\n",
       "      <th>PR_SIT_PR</th>\n",
       "      <th>PR_JOR</th>\n",
       "      <th>PR_NIVEL</th>\n",
       "      <th>PR_AREA</th>\n",
       "      <th>PR_CONOC</th>\n",
       "      <th>PR_SUELDO</th>\n",
       "      <th>HATR_E27</th>\n",
       "      <th>NOTRAB_BUS</th>\n",
       "      <th>NOTRAB_BUSM</th>\n",
       "      <th>NOTRAB_BUST</th>\n",
       "    </tr>\n",
       "  </thead>\n",
       "  <tbody>\n",
       "    <tr>\n",
       "      <th>0</th>\n",
       "      <td>1</td>\n",
       "      <td>1</td>\n",
       "      <td>1</td>\n",
       "      <td>1</td>\n",
       "      <td>11101</td>\n",
       "      <td>3</td>\n",
       "      <td>11</td>\n",
       "      <td>2</td>\n",
       "      <td>2</td>\n",
       "      <td>2</td>\n",
       "      <td>...</td>\n",
       "      <td>1</td>\n",
       "      <td>1</td>\n",
       "      <td>3</td>\n",
       "      <td>2</td>\n",
       "      <td>1</td>\n",
       "      <td>3</td>\n",
       "      <td>1</td>\n",
       "      <td></td>\n",
       "      <td></td>\n",
       "      <td></td>\n",
       "    </tr>\n",
       "    <tr>\n",
       "      <th>1</th>\n",
       "      <td>2</td>\n",
       "      <td>1</td>\n",
       "      <td>1</td>\n",
       "      <td>1</td>\n",
       "      <td>11101</td>\n",
       "      <td>3</td>\n",
       "      <td>11</td>\n",
       "      <td>2</td>\n",
       "      <td>2</td>\n",
       "      <td>3</td>\n",
       "      <td>...</td>\n",
       "      <td>3</td>\n",
       "      <td>1</td>\n",
       "      <td>3</td>\n",
       "      <td>2</td>\n",
       "      <td>1</td>\n",
       "      <td>3</td>\n",
       "      <td>1</td>\n",
       "      <td></td>\n",
       "      <td></td>\n",
       "      <td></td>\n",
       "    </tr>\n",
       "    <tr>\n",
       "      <th>2</th>\n",
       "      <td>3</td>\n",
       "      <td>1</td>\n",
       "      <td>1</td>\n",
       "      <td>1</td>\n",
       "      <td>11101</td>\n",
       "      <td>3</td>\n",
       "      <td>11</td>\n",
       "      <td>1</td>\n",
       "      <td>2</td>\n",
       "      <td>3</td>\n",
       "      <td>...</td>\n",
       "      <td>3</td>\n",
       "      <td>2</td>\n",
       "      <td>4</td>\n",
       "      <td>3</td>\n",
       "      <td>2</td>\n",
       "      <td>3</td>\n",
       "      <td>1</td>\n",
       "      <td></td>\n",
       "      <td></td>\n",
       "      <td></td>\n",
       "    </tr>\n",
       "    <tr>\n",
       "      <th>3</th>\n",
       "      <td>4</td>\n",
       "      <td>1</td>\n",
       "      <td>1</td>\n",
       "      <td>1</td>\n",
       "      <td>11101</td>\n",
       "      <td>3</td>\n",
       "      <td>11</td>\n",
       "      <td>1</td>\n",
       "      <td>2</td>\n",
       "      <td>7</td>\n",
       "      <td>...</td>\n",
       "      <td>3</td>\n",
       "      <td>2</td>\n",
       "      <td>4</td>\n",
       "      <td>3</td>\n",
       "      <td>2</td>\n",
       "      <td>2</td>\n",
       "      <td>1</td>\n",
       "      <td></td>\n",
       "      <td></td>\n",
       "      <td></td>\n",
       "    </tr>\n",
       "    <tr>\n",
       "      <th>4</th>\n",
       "      <td>5</td>\n",
       "      <td>1</td>\n",
       "      <td>1</td>\n",
       "      <td>1</td>\n",
       "      <td>11101</td>\n",
       "      <td>3</td>\n",
       "      <td>11</td>\n",
       "      <td>1</td>\n",
       "      <td>2</td>\n",
       "      <td>8</td>\n",
       "      <td>...</td>\n",
       "      <td>3</td>\n",
       "      <td>2</td>\n",
       "      <td>3</td>\n",
       "      <td>2</td>\n",
       "      <td>1</td>\n",
       "      <td>3</td>\n",
       "      <td>2</td>\n",
       "      <td></td>\n",
       "      <td></td>\n",
       "      <td></td>\n",
       "    </tr>\n",
       "    <tr>\n",
       "      <th>...</th>\n",
       "      <td>...</td>\n",
       "      <td>...</td>\n",
       "      <td>...</td>\n",
       "      <td>...</td>\n",
       "      <td>...</td>\n",
       "      <td>...</td>\n",
       "      <td>...</td>\n",
       "      <td>...</td>\n",
       "      <td>...</td>\n",
       "      <td>...</td>\n",
       "      <td>...</td>\n",
       "      <td>...</td>\n",
       "      <td>...</td>\n",
       "      <td>...</td>\n",
       "      <td>...</td>\n",
       "      <td>...</td>\n",
       "      <td>...</td>\n",
       "      <td>...</td>\n",
       "      <td>...</td>\n",
       "      <td>...</td>\n",
       "      <td>...</td>\n",
       "    </tr>\n",
       "    <tr>\n",
       "      <th>31646</th>\n",
       "      <td>31647</td>\n",
       "      <td>2</td>\n",
       "      <td>2</td>\n",
       "      <td>1</td>\n",
       "      <td>109999</td>\n",
       "      <td>3</td>\n",
       "      <td>109</td>\n",
       "      <td>1</td>\n",
       "      <td>2</td>\n",
       "      <td>9</td>\n",
       "      <td>...</td>\n",
       "      <td>2</td>\n",
       "      <td>2</td>\n",
       "      <td>2</td>\n",
       "      <td>3</td>\n",
       "      <td>1</td>\n",
       "      <td>3</td>\n",
       "      <td>1</td>\n",
       "      <td></td>\n",
       "      <td></td>\n",
       "      <td></td>\n",
       "    </tr>\n",
       "    <tr>\n",
       "      <th>31647</th>\n",
       "      <td>31648</td>\n",
       "      <td>2</td>\n",
       "      <td>2</td>\n",
       "      <td>1</td>\n",
       "      <td>109999</td>\n",
       "      <td>3</td>\n",
       "      <td>109</td>\n",
       "      <td>1</td>\n",
       "      <td>2</td>\n",
       "      <td>6</td>\n",
       "      <td>...</td>\n",
       "      <td>2</td>\n",
       "      <td>2</td>\n",
       "      <td>3</td>\n",
       "      <td>1</td>\n",
       "      <td>2</td>\n",
       "      <td>3</td>\n",
       "      <td>2</td>\n",
       "      <td></td>\n",
       "      <td></td>\n",
       "      <td></td>\n",
       "    </tr>\n",
       "    <tr>\n",
       "      <th>31648</th>\n",
       "      <td>31649</td>\n",
       "      <td>1</td>\n",
       "      <td>3</td>\n",
       "      <td>1</td>\n",
       "      <td>109999</td>\n",
       "      <td>3</td>\n",
       "      <td>109</td>\n",
       "      <td>1</td>\n",
       "      <td>2</td>\n",
       "      <td>3</td>\n",
       "      <td>...</td>\n",
       "      <td>2</td>\n",
       "      <td>2</td>\n",
       "      <td>3</td>\n",
       "      <td>1</td>\n",
       "      <td>1</td>\n",
       "      <td>3</td>\n",
       "      <td>1</td>\n",
       "      <td></td>\n",
       "      <td></td>\n",
       "      <td></td>\n",
       "    </tr>\n",
       "    <tr>\n",
       "      <th>31649</th>\n",
       "      <td>31650</td>\n",
       "      <td>1</td>\n",
       "      <td>1</td>\n",
       "      <td>1</td>\n",
       "      <td>109999</td>\n",
       "      <td>3</td>\n",
       "      <td>109</td>\n",
       "      <td>1</td>\n",
       "      <td>2</td>\n",
       "      <td>8</td>\n",
       "      <td>...</td>\n",
       "      <td>2</td>\n",
       "      <td>1</td>\n",
       "      <td>3</td>\n",
       "      <td>1</td>\n",
       "      <td>9</td>\n",
       "      <td>9</td>\n",
       "      <td>1</td>\n",
       "      <td></td>\n",
       "      <td></td>\n",
       "      <td></td>\n",
       "    </tr>\n",
       "    <tr>\n",
       "      <th>31650</th>\n",
       "      <td>31651</td>\n",
       "      <td>1</td>\n",
       "      <td>3</td>\n",
       "      <td>1</td>\n",
       "      <td>109999</td>\n",
       "      <td>3</td>\n",
       "      <td>109</td>\n",
       "      <td>1</td>\n",
       "      <td>2</td>\n",
       "      <td>4</td>\n",
       "      <td>...</td>\n",
       "      <td>2</td>\n",
       "      <td>2</td>\n",
       "      <td>3</td>\n",
       "      <td>2</td>\n",
       "      <td>1</td>\n",
       "      <td>3</td>\n",
       "      <td>1</td>\n",
       "      <td></td>\n",
       "      <td></td>\n",
       "      <td></td>\n",
       "    </tr>\n",
       "  </tbody>\n",
       "</table>\n",
       "<p>31651 rows × 65 columns</p>\n",
       "</div>"
      ],
      "text/plain": [
       "       IDENT  SEXO  EDAD  NACIO    TITU  RAMA  AMBITO  T_UNIV  DISCA  \\\n",
       "0          1     1     1      1   11101     3      11       2      2   \n",
       "1          2     1     1      1   11101     3      11       2      2   \n",
       "2          3     1     1      1   11101     3      11       1      2   \n",
       "3          4     1     1      1   11101     3      11       1      2   \n",
       "4          5     1     1      1   11101     3      11       1      2   \n",
       "...      ...   ...   ...    ...     ...   ...     ...     ...    ...   \n",
       "31646  31647     2     2      1  109999     3     109       1      2   \n",
       "31647  31648     2     2      1  109999     3     109       1      2   \n",
       "31648  31649     1     3      1  109999     3     109       1      2   \n",
       "31649  31650     1     1      1  109999     3     109       1      2   \n",
       "31650  31651     1     3      1  109999     3     109       1      2   \n",
       "\n",
       "       ESTUDIOS_PADRE  ...  PR_SIT_PR  PR_JOR PR_NIVEL  PR_AREA  PR_CONOC  \\\n",
       "0                   2  ...          1       1        3        2         1   \n",
       "1                   3  ...          3       1        3        2         1   \n",
       "2                   3  ...          3       2        4        3         2   \n",
       "3                   7  ...          3       2        4        3         2   \n",
       "4                   8  ...          3       2        3        2         1   \n",
       "...               ...  ...        ...     ...      ...      ...       ...   \n",
       "31646               9  ...          2       2        2        3         1   \n",
       "31647               6  ...          2       2        3        1         2   \n",
       "31648               3  ...          2       2        3        1         1   \n",
       "31649               8  ...          2       1        3        1         9   \n",
       "31650               4  ...          2       2        3        2         1   \n",
       "\n",
       "       PR_SUELDO  HATR_E27  NOTRAB_BUS  NOTRAB_BUSM NOTRAB_BUST  \n",
       "0              3         1                                       \n",
       "1              3         1                                       \n",
       "2              3         1                                       \n",
       "3              2         1                                       \n",
       "4              3         2                                       \n",
       "...          ...       ...         ...          ...         ...  \n",
       "31646          3         1                                       \n",
       "31647          3         2                                       \n",
       "31648          3         1                                       \n",
       "31649          9         1                                       \n",
       "31650          3         1                                       \n",
       "\n",
       "[31651 rows x 65 columns]"
      ]
     },
     "execution_count": 717,
     "metadata": {},
     "output_type": "execute_result"
    }
   ],
   "source": [
    "students"
   ]
  },
  {
   "cell_type": "markdown",
   "metadata": {},
   "source": [
    "La información de las columnas seleccionadas es la siguiente:"
   ]
  },
  {
   "cell_type": "code",
   "execution_count": 718,
   "metadata": {},
   "outputs": [],
   "source": [
    "# Fijamos la columna 'Variable' como índice de este DataFrame, con el fin de poder buscar más fácilmente por nombres de variables.\n",
    "cod.set_index('Variable',inplace=True)"
   ]
  },
  {
   "cell_type": "code",
   "execution_count": 719,
   "metadata": {},
   "outputs": [
    {
     "data": {
      "text/plain": [
       "Index(['IDENT', 'SEXO', 'EDAD', 'NACIO', 'NACIO1', 'NACIO2', 'PAIS_NACI',\n",
       "       'TITU', 'RAMA', 'AMBITO',\n",
       "       ...\n",
       "       'DENCUR5', 'DURCUR5', 'RESCUR5', 'ANHCUR5', 'DENCUR6', 'DURCUR6',\n",
       "       'RESCUR6', 'ANHCUR6', 'FACTOR', 'TOTAL'],\n",
       "      dtype='object', name='Variable', length=300)"
      ]
     },
     "execution_count": 719,
     "metadata": {},
     "output_type": "execute_result"
    }
   ],
   "source": [
    "cod.index"
   ]
  },
  {
   "cell_type": "code",
   "execution_count": 720,
   "metadata": {},
   "outputs": [],
   "source": [
    "columns_list = students.columns.to_list() # Lista con el nombre de las columnas de nuestro DataFrame\n",
    "\n",
    "# Por cada columna del DataFrame students nos imprime la descripción de la misma.\n",
    "\n",
    "descripciones = [] # Lista de listas donde cada valor será el par [varialbe,descripción]\n",
    "\n",
    "for variable in cod.index:\n",
    "    if variable in columns_list:\n",
    "        descripciones.append([variable, cod.loc[variable]['Descripción']])"
   ]
  },
  {
   "cell_type": "code",
   "execution_count": 721,
   "metadata": {},
   "outputs": [
    {
     "name": "stdout",
     "output_type": "stream",
     "text": [
      "IDENT : Nº de identificación de la persona\n",
      "SEXO : Sexo\n",
      "EDAD : Grupo de edad (a 31-dic-2019)\n",
      "NACIO : Nacionalidad\n",
      "TITU : Titulación\n",
      "RAMA : Rama de conocimiento de la titulación\n",
      "AMBITO : Ámbito de estudio\n",
      "T_UNIV : Tipo de Universidad\n",
      "DISCA : Tiene discapacidad reconocida superior al 33%\n",
      "ESTUDIOS_PADRE : Nivel de formación máximo alcanzado por el padre\n",
      "ESTUDIOS_MADRE : Nivel de formación máximo alcanzado por la madre\n",
      "SAT1 : Si tuviese que empezar volvería a cursar estudios universitarios\n",
      "SAT2 : Si tuviese que empezar volvería a estudiar la misma titulación\n",
      "EST_B11_1 : Otros estudios: Grado / Diplomatura / Licenciatura o equivalente\n",
      "EST_B11_2 : Otros estudios: Máster universitario\n",
      "EST_B11_3 : Otros estudios: Doctorado universitario\n",
      "EST_B11_4 : Otros estudios: Estudios artísticos superiores (artes plásticas, diseño, música y danza, arte dramático o conservación y restauración de bienes culturales)\n",
      "EST_B11_5 : Otros estudios: Ciclos Formativos de grado superior (formación profesional, artes plásticas y diseño) o Enseñanzas Deportivas de Grado Superior\n",
      "EST_B11_6 : Otros estudios: Ciclos Formativos de grado medio (formación profesional, artes plásticas y diseño) o Enseñanzas Deportivas de Grado Medio\n",
      "EST_B12 : Nº de otros estudios: Grado / Diplomatura / Licenciatura o equivalente\n",
      "EST_B16 : Nº de otros estudios: Máster universitario\n",
      "EST_B24 : Nº de otros estudios: Ciclos Formativos de grado superior (formación profesional, artes plásticas y diseño) o Enseñanzas Deportivas de Grado Superior\n",
      "EST_B28 : Nº de otros estudios: Ciclos Formativos de grado medio (formación profesional, artes plásticas y diseño) o Enseñanzas Deportivas de Grado Medio\n",
      "IDI_MT1 : Idioma materno 1\n",
      "IDI_MT2 : Idioma materno 2\n",
      "IDIOMAS : Nº de idiomas que habla (sin contar los maternos)\n",
      "IDIOMA1 : Idioma 1\n",
      "NIV_ID1 : Nivel del idioma 1\n",
      "TIPOACREIDI1 : Nivel máximo acreditación para idioma 1\n",
      "IDIOMA2 : Idioma 2\n",
      "NIV_ID2 : Nivel del idioma 2\n",
      "TIPOACREIDI2 : Nivel máximo acreditación para idioma 2\n",
      "TIC : Capacidad para usar el ordenador u otros dispositivos informáticos\n",
      "TRBPRN1 : Situación laboral actual\n",
      "TRBPRN2 : Situación de inactividad\n",
      "TRINAC_D4 : Inactivo: Ha buscado empleo alguna vez desde que se tituló\n",
      "TRINAC_D5 : Inactivo: Momento en el que empezó a buscar trabajo\n",
      "TRINAC_D6 : Inactivo: Tiempo que ha estado buscando trabajo\n",
      "TRPARA_D5 : En desempleo: Momento en el que empezó a buscar trabajo\n",
      "TRPARA_D6 : En desempleo: Tiempo que ha estado buscando trabajo\n",
      "TRAC_D9 : Actualmente trabaja en más de un empleo\n",
      "LUG_TRAB_PAIS : País de trabajo actual\n",
      "SIT_PRO : Situación profesional actual\n",
      "JORNADA : Tipo de jornada de trabajo actual\n",
      "TR_TAM : Número de personas trabajando en la empresa donde trabaja actualmente\n",
      "TR_SUELDO : Sueldo mensual neto actual\n",
      "TR_D19 : Nivel de formación más apropiado para realizar el trabajo actual\n",
      "TR_D21 : Se hace uso en el trabajo actual de los conocimientos y habilidades adquiridos en estos estudios\n",
      "HL_E1 : Ha realizado prácticas en empresas, instituciones o similares\n",
      "HL_E2 : Meses de prácticas\n",
      "HL_E3 : Ha tenido algún trabajo remunerado durante la realización de los estudios\n",
      "HL_E5 : Continuó en ese trabajo durante al menos 6 meses después de acabar estos estudios\n",
      "HATR_E11 : Tiempo transcurrido desde que finalizó estos estudios hasta que empezó a trabajar\n",
      "HATR_E12 : Momento en el que empezó a buscar trabajo\n",
      "P_CONTI : Continúa en su primer empleo\n",
      "PR_SIT_PR : Situación profesional de su primer empleo\n",
      "PR_JOR : Tipo de jornada de trabajo de su primer empleo\n",
      "PR_NIVEL : Nivel de formación más apropiado para realizar su primer empleo\n",
      "PR_AREA : Área de estudio más apropiada para su primer empleo\n",
      "PR_CONOC : Se hacía uso en su primer empleo de los conocimientos y habilidades adquiridos en estos estudios\n",
      "PR_SUELDO : Sueldo mensual neto del primer trabajo o de su empleo actual en el momento en el que empezó\n",
      "HATR_E27 : Cree que el título universitario le ha servido para encontrar trabajo\n",
      "NOTRAB_BUS : Ha buscado empleo alguna vez\n",
      "NOTRAB_BUSM : Momento en el que empezó a buscar trabajo\n",
      "NOTRAB_BUST : Tiempo que lleva buscando trabajo\n"
     ]
    }
   ],
   "source": [
    "for variable, descripcion in descripciones:\n",
    "    print(f\"{variable} : {descripcion}\")"
   ]
  },
  {
   "cell_type": "markdown",
   "metadata": {},
   "source": [
    "Con el fin de tener esta información a nuestra disposición durante el desarrollo del análisis, crearemos un archivo .txt con la salida anterior para poder recurrir a el cuando sea necesario."
   ]
  },
  {
   "cell_type": "code",
   "execution_count": 722,
   "metadata": {},
   "outputs": [],
   "source": [
    "# Escribir la lista de variables y descripciones en el archivo TXT\n",
    "with open(\"data/descripciones_columnas\", 'w', encoding='utf-8') as archivo_descripciones:\n",
    "    # Escribir cada línea de variables y descripciones\n",
    "    for variable, descripcion in descripciones:                 # Recorremos la lista creada anteriormente\n",
    "        archivo_descripciones.write(f'{variable} : {descripcion}\\n')"
   ]
  },
  {
   "cell_type": "markdown",
   "metadata": {},
   "source": [
    "De esta forma hemos reducido el número de columnas de 299 a 69"
   ]
  },
  {
   "cell_type": "markdown",
   "metadata": {},
   "source": [
    ">  **4.** **TIPOS DE DATOS Y VALORES NULOS**"
   ]
  },
  {
   "cell_type": "code",
   "execution_count": 723,
   "metadata": {},
   "outputs": [
    {
     "name": "stdout",
     "output_type": "stream",
     "text": [
      "<class 'pandas.core.frame.DataFrame'>\n",
      "RangeIndex: 31651 entries, 0 to 31650\n",
      "Data columns (total 65 columns):\n",
      " #   Column          Non-Null Count  Dtype \n",
      "---  ------          --------------  ----- \n",
      " 0   IDENT           31651 non-null  int64 \n",
      " 1   SEXO            31651 non-null  int64 \n",
      " 2   EDAD            31651 non-null  int64 \n",
      " 3   NACIO           31651 non-null  int64 \n",
      " 4   TITU            31651 non-null  int64 \n",
      " 5   RAMA            31651 non-null  int64 \n",
      " 6   AMBITO          31651 non-null  int64 \n",
      " 7   T_UNIV          31651 non-null  int64 \n",
      " 8   DISCA           31651 non-null  int64 \n",
      " 9   ESTUDIOS_PADRE  31651 non-null  int64 \n",
      " 10  ESTUDIOS_MADRE  31651 non-null  int64 \n",
      " 11  SAT1            31651 non-null  int64 \n",
      " 12  SAT2            31651 non-null  object\n",
      " 13  EST_B11_1       31651 non-null  int64 \n",
      " 14  EST_B11_2       31651 non-null  int64 \n",
      " 15  EST_B11_3       31651 non-null  int64 \n",
      " 16  EST_B11_4       31651 non-null  int64 \n",
      " 17  EST_B11_5       31651 non-null  int64 \n",
      " 18  EST_B11_6       31651 non-null  int64 \n",
      " 19  EST_B12         31651 non-null  object\n",
      " 20  EST_B16         31651 non-null  object\n",
      " 21  EST_B24         31651 non-null  object\n",
      " 22  EST_B28         31651 non-null  object\n",
      " 23  IDIOMAS         31651 non-null  int64 \n",
      " 24  IDI_MT1         31651 non-null  int64 \n",
      " 25  IDI_MT2         31651 non-null  object\n",
      " 26  TIC             31651 non-null  int64 \n",
      " 27  IDIOMA1         31651 non-null  object\n",
      " 28  NIV_ID1         31651 non-null  object\n",
      " 29  TIPOACREIDI1    31651 non-null  object\n",
      " 30  IDIOMA2         31651 non-null  object\n",
      " 31  NIV_ID2         31651 non-null  object\n",
      " 32  TIPOACREIDI2    31651 non-null  object\n",
      " 33  TRBPRN1         31651 non-null  int64 \n",
      " 34  TRBPRN2         31651 non-null  object\n",
      " 35  TRINAC_D4       31651 non-null  object\n",
      " 36  TRINAC_D5       31651 non-null  object\n",
      " 37  TRINAC_D6       31651 non-null  object\n",
      " 38  TRPARA_D5       31651 non-null  object\n",
      " 39  TRPARA_D6       31651 non-null  object\n",
      " 40  TRAC_D9         31651 non-null  object\n",
      " 41  LUG_TRAB_PAIS   31651 non-null  object\n",
      " 42  SIT_PRO         31651 non-null  object\n",
      " 43  JORNADA         31651 non-null  object\n",
      " 44  TR_TAM          31651 non-null  object\n",
      " 45  TR_SUELDO       31651 non-null  object\n",
      " 46  TR_D19          31651 non-null  object\n",
      " 47  TR_D21          31651 non-null  object\n",
      " 48  HL_E1           31651 non-null  int64 \n",
      " 49  HL_E2           31651 non-null  object\n",
      " 50  HL_E3           31651 non-null  int64 \n",
      " 51  HL_E5           31651 non-null  object\n",
      " 52  HATR_E11        31651 non-null  object\n",
      " 53  HATR_E12        31651 non-null  object\n",
      " 54  P_CONTI         31651 non-null  object\n",
      " 55  PR_SIT_PR       31651 non-null  object\n",
      " 56  PR_JOR          31651 non-null  object\n",
      " 57  PR_NIVEL        31651 non-null  object\n",
      " 58  PR_AREA         31651 non-null  object\n",
      " 59  PR_CONOC        31651 non-null  object\n",
      " 60  PR_SUELDO       31651 non-null  object\n",
      " 61  HATR_E27        31651 non-null  object\n",
      " 62  NOTRAB_BUS      31651 non-null  object\n",
      " 63  NOTRAB_BUSM     31651 non-null  object\n",
      " 64  NOTRAB_BUST     31651 non-null  object\n",
      "dtypes: int64(24), object(41)\n",
      "memory usage: 15.7+ MB\n"
     ]
    }
   ],
   "source": [
    "students.info()"
   ]
  },
  {
   "cell_type": "markdown",
   "metadata": {},
   "source": [
    "Como podemos observar, ninguna columna tiene datos nulos de los 31651. Sin embargo, a simple vista podemos observar campos vacíos. Esto se puede deber a que los valores nulos están contemplados como string con espacios en blanco"
   ]
  },
  {
   "cell_type": "code",
   "execution_count": 724,
   "metadata": {},
   "outputs": [
    {
     "data": {
      "text/plain": [
       "' '"
      ]
     },
     "execution_count": 724,
     "metadata": {},
     "output_type": "execute_result"
    }
   ],
   "source": [
    "students.iloc[0]['NOTRAB_BUS'] # Los registros sin datos, son espacios en blanco\n"
   ]
  },
  {
   "cell_type": "code",
   "execution_count": 725,
   "metadata": {},
   "outputs": [],
   "source": [
    "# Podríamos reemplazar estos valores por datos NaN. Sin embargo, más adelante lo realizaremos a la vez que modificamos el tipo de los datos, de un solo paso.\n",
    "# students.replace(' ', pd.NA, inplace=True)"
   ]
  },
  {
   "cell_type": "markdown",
   "metadata": {},
   "source": [
    "Otra observación a tener en cuenta es el tipo de datos. A primera vista, todos parecen ser numéricos; sin embargo, se observa que varias columnas están etiquetadas como 'object'. Esto podría atribuirse a lo mencionado anteriormente, donde los valores sin datos se representan como espacios en blanco. Optamos por una transformación que asegure que todos los valores sean tratados como numéricos. Tenemos certeza sobre el diseño de la base de datos y estamos seguros de que todos los datos son numéricos, sin riesgo de pérdida de información."
   ]
  },
  {
   "cell_type": "code",
   "execution_count": 726,
   "metadata": {},
   "outputs": [
    {
     "data": {
      "text/plain": [
       "IDENT           int64\n",
       "SEXO            int64\n",
       "EDAD            int64\n",
       "NACIO           int64\n",
       "TITU            int64\n",
       "                ...  \n",
       "PR_SUELDO      object\n",
       "HATR_E27       object\n",
       "NOTRAB_BUS     object\n",
       "NOTRAB_BUSM    object\n",
       "NOTRAB_BUST    object\n",
       "Length: 65, dtype: object"
      ]
     },
     "execution_count": 726,
     "metadata": {},
     "output_type": "execute_result"
    }
   ],
   "source": [
    "students.dtypes"
   ]
  },
  {
   "cell_type": "code",
   "execution_count": 727,
   "metadata": {},
   "outputs": [],
   "source": [
    "students = students.apply(pd.to_numeric, errors='coerce', downcast='integer') \n",
    "\n",
    "# Al forzar el cambio a tipo numérico con errors='coerce', aquellos valores no numéricos (como los espacios en blanco), serán considerados NaN\n",
    "# De esta forma realizamos dos pasos en 1: cambiar todos los valores a tipo numérico y modificar los string vacíos a nulos."
   ]
  },
  {
   "cell_type": "code",
   "execution_count": 728,
   "metadata": {},
   "outputs": [
    {
     "data": {
      "text/plain": [
       "IDENT            int16\n",
       "SEXO              int8\n",
       "EDAD              int8\n",
       "NACIO             int8\n",
       "TITU             int32\n",
       "                ...   \n",
       "PR_SUELDO      float64\n",
       "HATR_E27       float64\n",
       "NOTRAB_BUS     float64\n",
       "NOTRAB_BUSM    float64\n",
       "NOTRAB_BUST    float64\n",
       "Length: 65, dtype: object"
      ]
     },
     "execution_count": 728,
     "metadata": {},
     "output_type": "execute_result"
    }
   ],
   "source": [
    "students.dtypes"
   ]
  },
  {
   "cell_type": "markdown",
   "metadata": {},
   "source": [
    "> **5** **Rename columnas**"
   ]
  },
  {
   "cell_type": "markdown",
   "metadata": {},
   "source": [
    "> **6** **Data Cleaning/Wrangling**"
   ]
  },
  {
   "cell_type": "markdown",
   "metadata": {},
   "source": [
    "Algunas variables del dataset necesitan modificaciones para que sea más sencillo trabajar con los datos y para obtener las respuestas que buscamos."
   ]
  },
  {
   "cell_type": "markdown",
   "metadata": {},
   "source": [
    "     T_UNIV\n",
    "\n",
    "Esta variable indica el tipo de universidad:\n",
    "\n",
    "**1** -\t*Universidad Pública presencial*\n",
    "\n",
    "**2** -\t*Universidad Pública a distancia*\n",
    "\n",
    "**3** -\t*Universidad Privada presencial*\n",
    "\n",
    "**4** -\t*Universidad Privada a distancia*\n",
    "\n",
    "Sin embargo para nuestro análisis contemplamos dos valores: estudiar en una universidad pública o privada. Realizaremos la conversión a la siguiente codificación:\n",
    "\n",
    "**1** -\t*Universidad Pública (presencial o a distancia)*\n",
    "\n",
    "**2** -\t*Universidad Privada (presencial o a distancia)*"
   ]
  },
  {
   "cell_type": "code",
   "execution_count": 729,
   "metadata": {},
   "outputs": [],
   "source": [
    "# Diccionario con la nueva codificación para la columna 'T_UNIV'\n",
    "tipo_uni = {1: 'Publica', 2: 'Publica', 3: 'Privada', 4: 'Privada'}\n",
    "\n",
    "# Reemplaza los valores en la columna 'T_UNIV'\n",
    "students['T_UNIV'] = students['T_UNIV'].replace(tipo_uni)"
   ]
  },
  {
   "cell_type": "markdown",
   "metadata": {},
   "source": [
    "********"
   ]
  },
  {
   "cell_type": "markdown",
   "metadata": {},
   "source": [
    "     TRBPRN1\n",
    "\n",
    "Variable que indica la situación laboral actual:\n",
    "\n",
    "**1** - Activo\n",
    "\n",
    "**2** - En desempleo\n",
    "\n",
    "**3** - Inactivo"
   ]
  },
  {
   "cell_type": "code",
   "execution_count": 730,
   "metadata": {},
   "outputs": [],
   "source": [
    "# Diccionario con la nueva codificación para la columna 'TRBPRN1'\n",
    "empleo = {1: \"Trabajando\", 2: \"Desempleo\", 3:\"Inactivo\"}\n",
    "\n",
    "students['TRBPRN1'] = students['TRBPRN1'].replace(empleo)"
   ]
  },
  {
   "cell_type": "markdown",
   "metadata": {},
   "source": [
    "Para el análisis de la situación laboral de los estudiantes a fecha de la obtención de los datos (2019), no nos interesa la población inactiva, ya que no está buscando trabajo activamente. Sin embargo, crearemos un dataframe aparte con esta condición ya que si nos puede interesar otra información relevante como por ejemplo, si nada más terminar sus estudios (en 2014) consiguieron trabajo (aunque actualmente estén inactivos)."
   ]
  },
  {
   "cell_type": "code",
   "execution_count": 731,
   "metadata": {},
   "outputs": [],
   "source": [
    "students_empleo = students[students['TRBPRN1']!='Inactivo'] # Excluímos aquellos que están inactivos (no buscan empleo)"
   ]
  },
  {
   "cell_type": "markdown",
   "metadata": {},
   "source": [
    "    > RAMA\n",
    "\n",
    "Nueva codificación de la variable 'RAMA'"
   ]
  },
  {
   "cell_type": "code",
   "execution_count": 732,
   "metadata": {},
   "outputs": [],
   "source": [
    "# Diccionario con la nueva codificación para la columna 'RAMA'\n",
    "ramas = {1: \"Artes/Humanidades\", 2: \"Ciencias\", 3:\"Ciencias sociales\", 4:\"Ingeniería/arquitectura\", 5:\"Salud\"}\n",
    "\n",
    "students['RAMA'] = students['RAMA'].replace(ramas)"
   ]
  },
  {
   "cell_type": "markdown",
   "metadata": {},
   "source": [
    "> **7** **Exploratory Data Anaysis**"
   ]
  },
  {
   "cell_type": "markdown",
   "metadata": {},
   "source": [
    "**HIPÓTESIS**"
   ]
  },
  {
   "cell_type": "markdown",
   "metadata": {},
   "source": [
    "Para comenzar el análisis de las variables, es necesario comprender exactamente qué estamos buscando, con el fin de poder seleccionar aquellos datos que nos aporten mayor información para nuestra hipótesis. "
   ]
  },
  {
   "cell_type": "markdown",
   "metadata": {},
   "source": [
    "Nuestro objetivo principal es saber si estudiar en una universidad privada te garantiza más oportunidades laborales al terminar el grado universitario.\n",
    "\n",
    "\n",
    " obtener aquellos factores determinantes que influyen a la hora de encontrar trabajo para un estudiante universitario:\n",
    "\n",
    "- Estudiar en una universidad privada te garantiza más oportunidades de empleo al terminar el grado universitario\n",
    "\n",
    "- ¿La educación familiar influye en la empleabilidad del estudiante?\n",
    "\n",
    "- ¿Los idiomas son importantes a la hora de buscar trabajo?\n",
    "\n",
    "- ¿Los estudiantes de ciertas ramas tiene más oportunidades de encontrar trabajo?"
   ]
  },
  {
   "cell_type": "markdown",
   "metadata": {},
   "source": [
    "#### **7.1 Análisis univariante**"
   ]
  },
  {
   "cell_type": "markdown",
   "metadata": {},
   "source": [
    "Dividiremos el análisis univariante en los siguientes apartados:\n",
    "- Variables relacionadas con la descripción de la población\n",
    "- Variables relacionadas con la formación de la población\n",
    "- Variables relacionadas con la formación de los progenitores o tutores legales"
   ]
  },
  {
   "cell_type": "markdown",
   "metadata": {},
   "source": [
    "##### **Descripción de la población**"
   ]
  },
  {
   "cell_type": "markdown",
   "metadata": {},
   "source": [
    "    > SEXO"
   ]
  },
  {
   "cell_type": "code",
   "execution_count": 733,
   "metadata": {},
   "outputs": [],
   "source": [
    "# Diccionario con la nueva codificación para la columna 'SEXO'\n",
    "sexo = {1: \"Hombre\", 2: \"Mujer\"}\n",
    "\n",
    "students['SEXO'] = students['SEXO'].replace(sexo)"
   ]
  },
  {
   "cell_type": "code",
   "execution_count": 734,
   "metadata": {},
   "outputs": [
    {
     "data": {
      "image/png": "[encoded data removed]",
      "text/plain": [
       "<Figure size 640x480 with 1 Axes>"
      ]
     },
     "metadata": {},
     "output_type": "display_data"
    }
   ],
   "source": [
    "# Representación gráfica de la variable 'SEXO'\n",
    "sns.countplot(x='SEXO', data=students)\n",
    "\n",
    "# Labels\n",
    "plt.title('Distribución de Sexo')\n",
    "plt.xlabel('Sexo')\n",
    "\n",
    "plt.show()"
   ]
  },
  {
   "cell_type": "markdown",
   "metadata": {},
   "source": [
    "    > EDAD"
   ]
  },
  {
   "cell_type": "code",
   "execution_count": 735,
   "metadata": {},
   "outputs": [],
   "source": [
    "# Diccionario con la nueva codificación para la columna 'EDAD'\n",
    "edades = {1: \"Menores de 30 años\", 2: \"30-34 años\", 3:\"Mayores de 35 años\"}\n",
    "\n",
    "students['EDAD'] = students['EDAD'].replace(edades, inplace=True)"
   ]
  },
  {
   "cell_type": "code",
   "execution_count": 736,
   "metadata": {},
   "outputs": [
    {
     "data": {
      "image/png": "[encoded data removed]",
      "text/plain": [
       "<Figure size 640x480 with 1 Axes>"
      ]
     },
     "metadata": {},
     "output_type": "display_data"
    }
   ],
   "source": [
    "# Representación gráfica de la variable 'EDAD'\n",
    "sns.countplot(x='EDAD', data=students)\n",
    "\n",
    "# Labels\n",
    "plt.title('Distribución de Edad')\n",
    "plt.xlabel('Edades')\n",
    "\n",
    "plt.show()"
   ]
  },
  {
   "cell_type": "markdown",
   "metadata": {},
   "source": [
    "Realizamos un análisis rápido de algunas variables interesantes de nuestro dataset:"
   ]
  },
  {
   "cell_type": "code",
   "execution_count": 737,
   "metadata": {},
   "outputs": [
    {
     "data": {
      "image/png": "[encoded data removed]",
      "text/plain": [
       "<Figure size 1800x1800 with 6 Axes>"
      ]
     },
     "metadata": {},
     "output_type": "display_data"
    }
   ],
   "source": [
    "fig, axes = plt.subplots(3, 2, figsize = (18, 18))\n",
    "sns.countplot(ax = axes[0, 0], x = 'NACIO', data = students, color = 'blue',  # NACIONALIDAD (1: Española)\n",
    "              order = students['NACIO'].value_counts().index);\n",
    "sns.countplot(ax = axes[0, 1], x = 'RAMA', data = students, color = 'blue',  # RAMA\n",
    "              order = students['RAMA'].value_counts().index);\n",
    "sns.countplot(ax = axes[1, 0], x = 'T_UNIV', data = students, color = 'blue',  # TIPO DE UNIVERSIDAD\n",
    "              order = students['T_UNIV'].value_counts().index);\n",
    "sns.countplot(ax = axes[1, 1], x = 'TRBPRN1', data = students, color = 'blue',  # SITUACIÓN LABORAL \n",
    "              order = students['TRBPRN1'].value_counts().index);\n",
    "sns.countplot(ax = axes[2, 0], x = 'HL_E1', data = students, color = 'blue',  # PRÁCTICAS EN EMPRESAS\n",
    "              order = students['HL_E1'].head(20).value_counts().index);\n",
    "sns.countplot(ax = axes[2, 1], x = 'PR_SIT_PR', data = students, color = 'blue',  # SITUACIÓN PRIMER EMPLEO\n",
    "              order = students['PR_SIT_PR'].head(20).value_counts().index);"
   ]
  },
  {
   "cell_type": "markdown",
   "metadata": {},
   "source": [
    "Del análisis univariante obtenemos las siguientes conclusiones:"
   ]
  },
  {
   "cell_type": "markdown",
   "metadata": {},
   "source": [
    "#### **7.2 Análisis bivariante**"
   ]
  },
  {
   "cell_type": "markdown",
   "metadata": {},
   "source": [
    "##### **Situación laboral a los 5 años por tipo de universidad**"
   ]
  },
  {
   "cell_type": "markdown",
   "metadata": {},
   "source": [
    "Para una primera observación, filtraremos a aquellos individuos que han estudiado únicamente un grado universitario, con el fin de obtener una respuesta más acertada a nuestra hipótesis inicial, ya que tener más de un título impediría diferenciar cuál de ellos ha sido determinante para obtener el empleo. Emplearemos el dataset 'students_empleo' ya que no queremos considerar la población inactiva."
   ]
  },
  {
   "cell_type": "markdown",
   "metadata": {},
   "source": [
    "Las columnas que nos aportan esta información son las siguientes*:\n",
    "\n",
    "\n",
    "\n",
    "*Primer grupo*\n",
    "- **EST_B11_1** : Otros estudios: Grado / Diplomatura / Licenciatura o equivalente\n",
    "- **EST_B11_2** : Otros estudios: Máster universitario\n",
    "- **EST_B11_3** : Otros estudios: Doctorado universitario\n",
    "- **EST_B11_4** : Otros estudios: Estudios artísticos superiores (artes plásticas, diseño, música y danza, drama o conservación y restauración)\n",
    "- **EST_B11_5**: Otros estudios: Ciclos Formativos de grado superior (formación profesional, artes plásticas y diseño) o Enseñanzas Deportivas de Grado Superior\n",
    "- **EST_B11_6**: Otros estudios: Ciclos Formativos de grado medio (fp, artes plásticas y diseño) o Enseñanzas Deportivas de Grado Medio\n",
    "\n",
    "*Segundo grupo*\n",
    "- **EST_B12** : Nº de otros estudios: Grado / Diplomatura / Licenciatura o equivalente\n",
    "- **EST_B16** : Nº de otros estudios: Máster universitario\n",
    "- **EST_B24** : Nº de otros estudios: Ciclos Formativos de grado superior (formación profesional, artes plásticas y diseño) o Enseñanzas Deportivas de Grado Superior\n",
    "- **EST_B28** : Nº de otros estudios: Ciclos Formativos de grado medio (formación profesional, artes plásticas y diseño) o Enseñanzas Deportivas de Grado Medio\n",
    "\n",
    "**Obtenido a partir del archivo 'data/descripciones_columnas.txt' creado anteriormente*"
   ]
  },
  {
   "cell_type": "markdown",
   "metadata": {},
   "source": [
    "En el **primer grupo** se indica con variables categóricas (1 -> SÍ ; 2 -> No) si el individuo ha cursado alguno de los siguientes 6 títulos: grado, máster, doctorado, estudios artísticos, grado superior o grado medio.\n",
    "\n",
    "Las variables del **segundo grupo** indican el número de títulos de grado, máster, grado superior o grado medio que tiene el individuo.\n",
    "\n",
    "Hay que tener en cuenta que en el segundo grupo no se contabilizan los estudios artísticos superiores ni el doctorado universitario. Por esta razón, filtraremos por todas las variables del primer grupo para asegurarnos que la muestra con la que vamos a realizar el análisis solo tiene un grado universitario."
   ]
  },
  {
   "cell_type": "code",
   "execution_count": 738,
   "metadata": {},
   "outputs": [],
   "source": [
    "# Se excluyen todos los registros que contenga otros estudios de cualquier tipo \n",
    "# Son variables categóricas donde el valor 2 indica NO\n",
    "\n",
    "students_grado = students_empleo[(students_empleo['EST_B11_1']==2) & (students_empleo['EST_B11_2']==2) & (students_empleo['EST_B11_3']==2) &\n",
    "         (students_empleo['EST_B11_4']==2) & (students_empleo['EST_B11_5']==2) & (students_empleo['EST_B11_6']==2)]\n"
   ]
  },
  {
   "cell_type": "markdown",
   "metadata": {},
   "source": [
    "Ahora el conjunto de datos se ha reducido considerablement a 8586 registros."
   ]
  },
  {
   "cell_type": "code",
   "execution_count": 797,
   "metadata": {},
   "outputs": [
    {
     "data": {
      "text/html": [
       "<div>\n",
       "<style scoped>\n",
       "    .dataframe tbody tr th:only-of-type {\n",
       "        vertical-align: middle;\n",
       "    }\n",
       "\n",
       "    .dataframe tbody tr th {\n",
       "        vertical-align: top;\n",
       "    }\n",
       "\n",
       "    .dataframe thead th {\n",
       "        text-align: right;\n",
       "    }\n",
       "</style>\n",
       "<table border=\"1\" class=\"dataframe\">\n",
       "  <thead>\n",
       "    <tr style=\"text-align: right;\">\n",
       "      <th></th>\n",
       "      <th></th>\n",
       "      <th>TRBPRN1</th>\n",
       "    </tr>\n",
       "    <tr>\n",
       "      <th>T_UNIV</th>\n",
       "      <th>TRBPRN1</th>\n",
       "      <th></th>\n",
       "    </tr>\n",
       "  </thead>\n",
       "  <tbody>\n",
       "    <tr>\n",
       "      <th rowspan=\"2\" valign=\"top\">Privada</th>\n",
       "      <th>Trabajando</th>\n",
       "      <td>94.257426</td>\n",
       "    </tr>\n",
       "    <tr>\n",
       "      <th>Desempleo</th>\n",
       "      <td>5.742574</td>\n",
       "    </tr>\n",
       "    <tr>\n",
       "      <th rowspan=\"2\" valign=\"top\">Publica</th>\n",
       "      <th>Trabajando</th>\n",
       "      <td>91.354277</td>\n",
       "    </tr>\n",
       "    <tr>\n",
       "      <th>Desempleo</th>\n",
       "      <td>8.645723</td>\n",
       "    </tr>\n",
       "  </tbody>\n",
       "</table>\n",
       "</div>"
      ],
      "text/plain": [
       "                      TRBPRN1\n",
       "T_UNIV  TRBPRN1              \n",
       "Privada Trabajando  94.257426\n",
       "        Desempleo    5.742574\n",
       "Publica Trabajando  91.354277\n",
       "        Desempleo    8.645723"
      ]
     },
     "execution_count": 797,
     "metadata": {},
     "output_type": "execute_result"
    }
   ],
   "source": [
    "# Calcular los porcentajes de tasa de empleo por tipo de universidad\n",
    "data_porcentaje_empleo = students_grado.groupby('T_UNIV')['TRBPRN1'].value_counts(normalize=True) * 100\n",
    "\n",
    "porcentaje_empleo = pd.DataFrame(data_porcentaje_empleo)\n",
    "#porcentaje_empleo.rename_axis(['T_Univ','Empleo'])\n",
    "porcentaje_empleo"
   ]
  },
  {
   "cell_type": "markdown",
   "metadata": {},
   "source": [
    "Los estudiantes que obtuvieron su grado en la universidad pública, 5 años después tienen una tasa de paro de **8,65%** mientras que la tasa de paro de los estudiantes de universidades privadas es de **5,74%**."
   ]
  },
  {
   "cell_type": "code",
   "execution_count": 801,
   "metadata": {},
   "outputs": [
    {
     "data": {
      "image/png": "[encoded data removed]",
      "text/plain": [
       "<Figure size 800x500 with 1 Axes>"
      ]
     },
     "metadata": {},
     "output_type": "display_data"
    }
   ],
   "source": [
    "# Gráfico porcentajes\n",
    "fig, ax = plt.subplots(figsize=(8, 5))\n",
    "porcentaje_empleo['TRBPRN1'].unstack().plot(kind='bar', ax=ax,stacked=True)\n",
    "\n",
    "ax.set_ylabel('Length (mm)')\n",
    "ax.set_title('Tipo de universidad')\n",
    "ax.legend(loc='upper center', ncols=2)\n",
    "\n",
    "plt.show()"
   ]
  },
  {
   "cell_type": "markdown",
   "metadata": {},
   "source": [
    "Como se puede observar en el gráfico, el desempleo de las universidades públicas es mayor que en las universidades privadas"
   ]
  },
  {
   "cell_type": "markdown",
   "metadata": {},
   "source": [
    "##### **Situación laboral nada más terminar los estudios por tipo de universidad**"
   ]
  },
  {
   "cell_type": "markdown",
   "metadata": {},
   "source": [
    "La variable **HATR_E11** nos aporta información sobre el tiempo transcurrido desde que finalizó los estudios hasta que empezó a trabajar. La codificación de la variable es la siguiente:\n",
    "\n",
    "0\tContinuó al menos 6 meses más en el trabajo que tenía mientras estudiaba\n",
    "\n",
    "1\tMenos de tres meses\n",
    "\n",
    "2\tDe 3 a 6 meses\n",
    "\n",
    "3\tDe 6 meses a 1 año\n",
    "\n",
    "4\tDe 1 año a  año y medio  \n",
    "\n",
    "5\tDe 1 año y medio a  2 años \n",
    "\n",
    "6\t2 ó más años\n",
    "\n",
    "9\tNS/NC\n",
    "\n",
    "NaN \tNo aplicable\n"
   ]
  },
  {
   "cell_type": "code",
   "execution_count": 790,
   "metadata": {},
   "outputs": [],
   "source": [
    "# Nos quedamos con aquellos campos no nulos y filtramos para excluir el grupo con el valor 9 (NS/NC)\n",
    "students_primer_empleo = students.copy()\n",
    "students_primer_empleo = students_primer_empleo[(students_primer_empleo['HATR_E11'].notnull()) & (students_primer_empleo['HATR_E11']!=9)] "
   ]
  },
  {
   "cell_type": "code",
   "execution_count": 791,
   "metadata": {},
   "outputs": [],
   "source": [
    "# Diccionario con la nueva codificación para la columna. Agruparemos los datos en dos principales grupos:\n",
    "# Los que encontraron trabajo en menos de un año y los que tardaron más de un año\n",
    "tiempo_primer_empleo = {0: \"Menos de 1 año\", 1: \"Menos de 1 año\", 2: \"Menos de 1 año\", 3: \"Menos de 1 año\", 4:\"Más de 1 año\", 5:\"Más de 1 año\", 6:\"Más de 1 año\"}\n",
    "\n",
    "# Reemplaza los valores en la columna 'HATR_E11'\n",
    "students_primer_empleo['HATR_E11'] = students_primer_empleo['HATR_E11'].replace(tiempo_primer_empleo)"
   ]
  },
  {
   "cell_type": "code",
   "execution_count": 792,
   "metadata": {},
   "outputs": [
    {
     "data": {
      "text/html": [
       "<div>\n",
       "<style scoped>\n",
       "    .dataframe tbody tr th:only-of-type {\n",
       "        vertical-align: middle;\n",
       "    }\n",
       "\n",
       "    .dataframe tbody tr th {\n",
       "        vertical-align: top;\n",
       "    }\n",
       "\n",
       "    .dataframe thead th {\n",
       "        text-align: right;\n",
       "    }\n",
       "</style>\n",
       "<table border=\"1\" class=\"dataframe\">\n",
       "  <thead>\n",
       "    <tr style=\"text-align: right;\">\n",
       "      <th></th>\n",
       "      <th></th>\n",
       "      <th>HATR_E11</th>\n",
       "    </tr>\n",
       "    <tr>\n",
       "      <th>T_UNIV</th>\n",
       "      <th>HATR_E11</th>\n",
       "      <th></th>\n",
       "    </tr>\n",
       "  </thead>\n",
       "  <tbody>\n",
       "    <tr>\n",
       "      <th rowspan=\"2\" valign=\"top\">Privada</th>\n",
       "      <th>Menos de 1 año</th>\n",
       "      <td>81.810193</td>\n",
       "    </tr>\n",
       "    <tr>\n",
       "      <th>Más de 1 año</th>\n",
       "      <td>18.189807</td>\n",
       "    </tr>\n",
       "    <tr>\n",
       "      <th rowspan=\"2\" valign=\"top\">Publica</th>\n",
       "      <th>Menos de 1 año</th>\n",
       "      <td>70.842085</td>\n",
       "    </tr>\n",
       "    <tr>\n",
       "      <th>Más de 1 año</th>\n",
       "      <td>29.157915</td>\n",
       "    </tr>\n",
       "  </tbody>\n",
       "</table>\n",
       "</div>"
      ],
      "text/plain": [
       "                         HATR_E11\n",
       "T_UNIV  HATR_E11                 \n",
       "Privada Menos de 1 año  81.810193\n",
       "        Más de 1 año    18.189807\n",
       "Publica Menos de 1 año  70.842085\n",
       "        Más de 1 año    29.157915"
      ]
     },
     "execution_count": 792,
     "metadata": {},
     "output_type": "execute_result"
    }
   ],
   "source": [
    "# Calcular los porcentajes de tiempo transcurrido hasta el primer empleo por tipo de universidad\n",
    "data_porcentaje_empleo = students_primer_empleo.groupby('T_UNIV')['HATR_E11'].value_counts(normalize=True) * 100\n",
    "\n",
    "porcentaje__primer_empleo = pd.DataFrame(data_porcentaje_empleo) # Creamos un DataFrame para almacenar la información\n",
    "#porcentaje_empleo.rename_axis(['T_Univ','Tiempo hasta el primer empleo'])\n",
    "porcentaje__primer_empleo"
   ]
  },
  {
   "cell_type": "code",
   "execution_count": 793,
   "metadata": {},
   "outputs": [
    {
     "data": {
      "image/png": "[encoded data removed]",
      "text/plain": [
       "<Figure size 800x500 with 1 Axes>"
      ]
     },
     "metadata": {},
     "output_type": "display_data"
    }
   ],
   "source": [
    "# Gráfico porcentajes\n",
    "fig, ax = plt.subplots(figsize=(8, 5))\n",
    "porcentaje__primer_empleo['HATR_E11'].unstack().plot(kind='bar', ax=ax)\n",
    "\n",
    "ax.set_ylabel('Length (mm)')\n",
    "ax.set_title('Tipo de universidad')\n",
    "ax.legend(loc='upper center', ncols=2)\n",
    "#plt.legend(loc='center right', labels=['Sin Empleo', 'Con Empleo'])\n",
    "\n",
    "plt.show()"
   ]
  },
  {
   "cell_type": "markdown",
   "metadata": {},
   "source": [
    "Mayor porcentaje de los estudiantes de las universidades privadas, al terminar sus estudios universitarios, encontraron trabajo antes que aquellos que cursaron su grado en una universidad pública"
   ]
  },
  {
   "cell_type": "markdown",
   "metadata": {},
   "source": [
    "##### **Situación laboral en el primer empleo**"
   ]
  },
  {
   "cell_type": "code",
   "execution_count": null,
   "metadata": {},
   "outputs": [],
   "source": []
  },
  {
   "cell_type": "markdown",
   "metadata": {},
   "source": [
    "##### **Estudios del padre por tipo de universidad**"
   ]
  },
  {
   "cell_type": "code",
   "execution_count": null,
   "metadata": {},
   "outputs": [],
   "source": []
  },
  {
   "cell_type": "markdown",
   "metadata": {},
   "source": [
    "##### **Estudios de la madre por tipo de universidad**"
   ]
  },
  {
   "cell_type": "code",
   "execution_count": null,
   "metadata": {},
   "outputs": [],
   "source": []
  },
  {
   "cell_type": "markdown",
   "metadata": {},
   "source": [
    "##### **Cómo afectan las prácticas al empleo. Tipos de prácticas por universidad**"
   ]
  },
  {
   "cell_type": "code",
   "execution_count": null,
   "metadata": {},
   "outputs": [],
   "source": []
  },
  {
   "cell_type": "markdown",
   "metadata": {},
   "source": [
    "##### **Rama/Ámbito por tipo de universidad**"
   ]
  },
  {
   "cell_type": "code",
   "execution_count": 704,
   "metadata": {},
   "outputs": [
    {
     "data": {
      "image/png": "[encoded data removed]",
      "text/plain": [
       "<Figure size 500x500 with 1 Axes>"
      ]
     },
     "metadata": {},
     "output_type": "display_data"
    }
   ],
   "source": [
    "# Según el tipo de universidad (T_UNIV), \n",
    "\n",
    "# Gráfico de barras utilizando catplot\n",
    "sns.catplot(x='RAMA', hue='TRBPRN1', data=students_grado, kind='count', palette='pastel',legend=False, stat=\"percent\")\n",
    "\n",
    "# Títulos y leyenda\n",
    "plt.title('Empleo por tipo de Universidad')\n",
    "plt.xlabel('Tipo de Universidad')\n",
    "plt.ylabel('Número de Estudiantes')\n",
    "plt.legend(loc='center right', labels=['Sin Empleo', 'Con Empleo'])\n",
    "\n",
    "# Mostrar el gráfico\n",
    "plt.show()"
   ]
  },
  {
   "cell_type": "code",
   "execution_count": 705,
   "metadata": {},
   "outputs": [],
   "source": [
    "# Diccionario con la nueva codificación para la columna 'T_UNIV'\n",
    "tipo_uni = {1: 1, 2: 1, 3: 2, 4: 2}\n",
    "\n",
    "# Reemplaza los valores en la columna 'T_UNIV'\n",
    "students['T_UNIV'] = students['T_UNIV'].replace(tipo_uni)"
   ]
  },
  {
   "cell_type": "code",
   "execution_count": null,
   "metadata": {},
   "outputs": [],
   "source": []
  }
 ],
 "metadata": {
  "kernelspec": {
   "display_name": "Python 3",
   "language": "python",
   "name": "python3"
  },
  "language_info": {
   "codemirror_mode": {
    "name": "ipython",
    "version": 3
   },
   "file_extension": ".py",
   "mimetype": "text/x-python",
   "name": "python",
   "nbconvert_exporter": "python",
   "pygments_lexer": "ipython3",
   "version": "3.11.3"
  }
 },
 "nbformat": 4,
 "nbformat_minor": 2
}
